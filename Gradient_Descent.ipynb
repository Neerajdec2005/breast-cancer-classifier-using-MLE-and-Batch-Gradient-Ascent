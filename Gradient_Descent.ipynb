{
 "cells": [
  {
   "cell_type": "code",
   "execution_count": 10,
   "id": "4befb77f",
   "metadata": {},
   "outputs": [
    {
     "name": "stdout",
     "output_type": "stream",
     "text": [
      "Requirement already satisfied: ucimlrepo in /Library/Frameworks/Python.framework/Versions/3.11/lib/python3.11/site-packages (0.0.7)\n",
      "Requirement already satisfied: pandas in /Library/Frameworks/Python.framework/Versions/3.11/lib/python3.11/site-packages (2.2.2)\n",
      "Requirement already satisfied: numpy in /Library/Frameworks/Python.framework/Versions/3.11/lib/python3.11/site-packages (1.26.4)\n",
      "Requirement already satisfied: matplotlib in /Library/Frameworks/Python.framework/Versions/3.11/lib/python3.11/site-packages (3.9.1)\n",
      "Requirement already satisfied: scikit-learn in /Library/Frameworks/Python.framework/Versions/3.11/lib/python3.11/site-packages (1.6.1)\n",
      "Requirement already satisfied: certifi>=2020.12.5 in /Library/Frameworks/Python.framework/Versions/3.11/lib/python3.11/site-packages (from ucimlrepo) (2024.8.30)\n",
      "Requirement already satisfied: python-dateutil>=2.8.2 in /Library/Frameworks/Python.framework/Versions/3.11/lib/python3.11/site-packages (from pandas) (2.9.0.post0)\n",
      "Requirement already satisfied: pytz>=2020.1 in /Library/Frameworks/Python.framework/Versions/3.11/lib/python3.11/site-packages (from pandas) (2024.1)\n",
      "Requirement already satisfied: tzdata>=2022.7 in /Library/Frameworks/Python.framework/Versions/3.11/lib/python3.11/site-packages (from pandas) (2024.1)\n",
      "Requirement already satisfied: contourpy>=1.0.1 in /Library/Frameworks/Python.framework/Versions/3.11/lib/python3.11/site-packages (from matplotlib) (1.2.1)\n",
      "Requirement already satisfied: cycler>=0.10 in /Library/Frameworks/Python.framework/Versions/3.11/lib/python3.11/site-packages (from matplotlib) (0.12.1)\n",
      "Requirement already satisfied: fonttools>=4.22.0 in /Library/Frameworks/Python.framework/Versions/3.11/lib/python3.11/site-packages (from matplotlib) (4.53.1)\n",
      "Requirement already satisfied: kiwisolver>=1.3.1 in /Library/Frameworks/Python.framework/Versions/3.11/lib/python3.11/site-packages (from matplotlib) (1.4.5)\n",
      "Requirement already satisfied: packaging>=20.0 in /Library/Frameworks/Python.framework/Versions/3.11/lib/python3.11/site-packages (from matplotlib) (24.1)\n",
      "Requirement already satisfied: pillow>=8 in /Library/Frameworks/Python.framework/Versions/3.11/lib/python3.11/site-packages (from matplotlib) (11.2.1)\n",
      "Requirement already satisfied: pyparsing>=2.3.1 in /Library/Frameworks/Python.framework/Versions/3.11/lib/python3.11/site-packages (from matplotlib) (3.1.2)\n",
      "Requirement already satisfied: scipy>=1.6.0 in /Library/Frameworks/Python.framework/Versions/3.11/lib/python3.11/site-packages (from scikit-learn) (1.14.0)\n",
      "Requirement already satisfied: joblib>=1.2.0 in /Library/Frameworks/Python.framework/Versions/3.11/lib/python3.11/site-packages (from scikit-learn) (1.4.2)\n",
      "Requirement already satisfied: threadpoolctl>=3.1.0 in /Library/Frameworks/Python.framework/Versions/3.11/lib/python3.11/site-packages (from scikit-learn) (3.5.0)\n",
      "Requirement already satisfied: six>=1.5 in /Library/Frameworks/Python.framework/Versions/3.11/lib/python3.11/site-packages (from python-dateutil>=2.8.2->pandas) (1.16.0)\n",
      "Note: you may need to restart the kernel to use updated packages.\n"
     ]
    }
   ],
   "source": [
    "pip install ucimlrepo pandas numpy matplotlib scikit-learn"
   ]
  },
  {
   "cell_type": "code",
   "execution_count": null,
   "id": "fe1c557f",
   "metadata": {},
   "outputs": [
    {
     "name": "stdout",
     "output_type": "stream",
     "text": [
      "[[1.799e+01 1.038e+01 1.228e+02 1.001e+03 1.184e-01 2.776e-01 3.001e-01\n",
      "  1.471e-01 2.419e-01 7.871e-02 1.095e+00 9.053e-01 8.589e+00 1.534e+02\n",
      "  6.399e-03 4.904e-02 5.373e-02 1.587e-02 3.003e-02 6.193e-03 2.538e+01\n",
      "  1.733e+01 1.846e+02 2.019e+03 1.622e-01 6.656e-01 7.119e-01 2.654e-01\n",
      "  4.601e-01 1.189e-01]]\n",
      "['M' 'M' 'M' 'M' 'M' 'M' 'M' 'M' 'M' 'M']\n"
     ]
    }
   ],
   "source": [
    "from ucimlrepo import fetch_ucirepo\n",
    "import pandas as pd\n",
    "import numpy as np\n",
    "\n",
    "#Fetching Breast Cancer Wisconsin (Diagnostic) dataset from UCI Machine Learning Repository\n",
    "dataset=fetch_ucirepo(id=17)\n",
    "\n",
    "x=dataset.data.features\n",
    "y=dataset.data.targets\n",
    "\n",
    "x=x.to_numpy()\n",
    "y=y.to_numpy().reshape(-1)\n",
    "\n",
    "print(x[:1])\n",
    "print(y[:10])"
   ]
  },
  {
   "cell_type": "code",
   "execution_count": 32,
   "id": "526c8549",
   "metadata": {},
   "outputs": [
    {
     "name": "stdout",
     "output_type": "stream",
     "text": [
      "[1 1 1 1 1 1 1 1 1 1]\n"
     ]
    }
   ],
   "source": [
    "y=np.where(y=='M',1,0)\n",
    "print(y[:10])"
   ]
  },
  {
   "cell_type": "code",
   "execution_count": null,
   "id": "0e46ee2e",
   "metadata": {},
   "outputs": [
    {
     "name": "stdout",
     "output_type": "stream",
     "text": [
      "[[-1.44075296 -0.43531947 -1.36208497 -1.1391179   0.78057331  0.71892128\n",
      "   2.82313451 -0.11914956  1.09266219  2.45817261 -0.26380039 -0.01605246\n",
      "  -0.47041357 -0.47476088  0.83836493  3.25102691  8.43893667  3.39198733\n",
      "   2.62116574  2.06120787 -1.23286131 -0.47630949 -1.24792009 -0.97396758\n",
      "   0.72289445  1.18673232  4.67282796  0.9320124   2.09724217  1.88645014]]\n",
      "[[-0.46649743 -0.13728933 -0.44421138 -0.48646498  0.28085007  0.04160589\n",
      "  -0.11146496 -0.26486866  0.41524141  0.13513744 -0.02091509 -0.29323907\n",
      "  -0.17460869 -0.2072995  -0.01181432 -0.35108921 -0.1810535  -0.24238831\n",
      "  -0.33731758 -0.0842133  -0.2632354  -0.14784208 -0.33154752 -0.35109337\n",
      "   0.48001942 -0.09649594 -0.03583041 -0.19435087  0.17275669  0.20372995]]\n"
     ]
    }
   ],
   "source": [
    "from sklearn.model_selection import train_test_split\n",
    "from sklearn.preprocessing import StandardScaler\n",
    "\n",
    "x_train, x_test, y_train, y_test = train_test_split(x, y, test_size=0.2, random_state=42)\n",
    "\n",
    "scaler=StandardScaler()\n",
    "x_train= scaler.fit_transform(x_train)\n",
    "x_test= scaler.transform(x_test)\n",
    "\n",
    "print(x_train[:1])\n",
    "print(x_test[:1])\n",
    "\n",
    "# Adding a bias term (intercept) to the feature matrices\n",
    "x_train=np.c_[np.ones(x_train.shape[0]),x_train]\n",
    "x_test=np.c_[np.ones(x_test.shape[0]),x_test]"
   ]
  },
  {
   "cell_type": "code",
   "execution_count": null,
   "id": "d2130570",
   "metadata": {},
   "outputs": [],
   "source": [
    "def sigmoid_function(z):\n",
    "    return 1/(1+np.exp(-z))\n",
    "\n",
    "def batch_gradient_ascent(x,y,alpha=0.01,iterations=1000):\n",
    "    m,n=x.shape\n",
    "    theta=np.zeros(n)\n",
    "    likelihoods=[]\n",
    "    \n",
    "    for _ in range(iterations):\n",
    "        h=sigmoid_function(np.dot(x,theta))\n",
    "\n",
    "        h=np.clip(h,1e-10,1-1e-10) # Epsilon to avoid log(0)\n",
    "\n",
    "        gradient=np.dot(x.T,(y-h))\n",
    "\n",
    "        theta+=(alpha*gradient)\n",
    "\n",
    "        likelihood=np.sum(y*np.log(h)+(1-y)*np.log(1-h))\n",
    "        likelihoods.append(likelihood)\n",
    "\n",
    "    return theta, likelihoods"
   ]
  },
  {
   "cell_type": "code",
   "execution_count": null,
   "id": "08c02615",
   "metadata": {},
   "outputs": [
    {
     "name": "stdout",
     "output_type": "stream",
     "text": [
      "Accuracy: 98.25%\n"
     ]
    }
   ],
   "source": [
    "theta,likelihoods=batch_gradient_ascent(x_train, y_train,alpha=0.001,iterations=1000)\n",
    "\n",
    "def predict(x_test,theta,threshold=0.5):\n",
    "    probabilities=sigmoid_function(np.dot(x_test,theta))\n",
    "    return (probabilities>=threshold).astype(int)\n",
    "\n",
    "y_pred=predict(x_test,theta)\n",
    "accuracy=np.mean(y_pred==y_test)\n",
    "\n",
    "print(f\"Accuracy: {accuracy * 100:.2f}%\")"
   ]
  },
  {
   "cell_type": "code",
   "execution_count": 59,
   "id": "dbd8131b",
   "metadata": {},
   "outputs": [
    {
     "data": {
      "image/png": "[encoded data removed]",
      "text/plain": [
       "<Figure size 600x400 with 1 Axes>"
      ]
     },
     "metadata": {},
     "output_type": "display_data"
    }
   ],
   "source": [
    "import matplotlib.pyplot as plt\n",
    "\n",
    "plt.figure(figsize=(6,4))\n",
    "plt.plot(range(len(likelihoods)), likelihoods, color='red', linewidth=3)\n",
    "plt.title('Likelihood over Iterations (Maximum Likelihood Estimation)', fontsize=14)\n",
    "plt.xlabel('Iterations', fontsize=12)\n",
    "plt.ylabel('Likelihood', fontsize=12)\n",
    "plt.grid(True)\n",
    "plt.tight_layout()\n",
    "plt.show()"
   ]
  }
 ],
 "metadata": {
  "kernelspec": {
   "display_name": "Python 3",
   "language": "python",
   "name": "python3"
  },
  "language_info": {
   "codemirror_mode": {
    "name": "ipython",
    "version": 3
   },
   "file_extension": ".py",
   "mimetype": "text/x-python",
   "name": "python",
   "nbconvert_exporter": "python",
   "pygments_lexer": "ipython3",
   "version": "3.11.0"
  }
 },
 "nbformat": 4,
 "nbformat_minor": 5
}
